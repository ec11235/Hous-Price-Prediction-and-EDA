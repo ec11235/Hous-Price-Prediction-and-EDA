{
 "cells": [
  {
   "cell_type": "markdown",
   "id": "eef70927-afb0-4ce9-8a81-fc7c1efe2e04",
   "metadata": {},
   "source": [
    "# Housing Market EDA and Price Prediction Project\n",
    "### Objectives:\n",
    "- Import the dataset\n",
    "- Inspect and clean the data set\n",
    "- Understand the data (correlations, heatmap)\n",
    "- Visualize data\n",
    "- Data transformation\n",
    "- Model development\n",
    "- Model evaluation/visualization\n",
    "- Model refinement"
   ]
  },
  {
   "cell_type": "markdown",
   "id": "ba024b6f-3370-4899-b674-def01c595009",
   "metadata": {},
   "source": [
    "## Step 1: Import Required Libraries"
   ]
  },
  {
   "cell_type": "code",
   "execution_count": null,
   "id": "7c138492-9061-43e7-b9dd-0638f2432ec7",
   "metadata": {},
   "outputs": [],
   "source": [
    "import seaborn as sns\n",
    "import numpy as np\n",
    "import pandas as pd\n",
    "import matplotlib.pyplot as plt\n",
    "from sklearn.preprocessing import PolynomialFeatures, StandardScaler\n",
    "from sklearn.linear_model import LinearRegression, Ridge\n",
    "from sklearn.pipeline import Pipeline\n",
    "from sklearn.metrics import mean_squared_error, r2_score\n",
    "from sklearn.model_selection import train_test_split, cross_val_score, GridSearchCV\n",
    "import os\n",
    "import gc\n",
    "from scipy import stats\n",
    "import warnings\n",
    "%matplotlib inline\n",
    "warnings.filterwarnings(\"ignore\",category=UserWarning)\n",
    "warnings.filterwarnings(\"ignore\",category=FutureWarning)\n",
    "sns.set(rc={'axes.facecolor':'lightblue', 'figure.facecolor':'lightgrey'})\n",
    "from tqdm import tqdm"
   ]
  },
  {
   "cell_type": "markdown",
   "id": "84fa2dbd-e909-4322-acca-9f07c10fe4b5",
   "metadata": {},
   "source": [
    "## Step 2: Import The Dataset"
   ]
  },
  {
   "cell_type": "code",
   "execution_count": null,
   "id": "5b7bfc0b-cf35-4ff0-b851-b69440372eb3",
   "metadata": {},
   "outputs": [],
   "source": [
    "FILE_PATH = 'Housing.csv'"
   ]
  },
  {
   "cell_type": "code",
   "execution_count": null,
   "id": "b8d5dd3c-cc6a-4f43-b239-24e3433853b8",
   "metadata": {},
   "outputs": [],
   "source": [
    "raw_data = pd.read_csv(FILE_PATH)"
   ]
  },
  {
   "cell_type": "markdown",
   "id": "04462085-728d-4f6d-ae92-781da9e7d514",
   "metadata": {},
   "source": [
    "## Step 3: Inspect And Clean The Dataset"
   ]
  },
  {
   "cell_type": "code",
   "execution_count": null,
   "id": "e9e7b650-df63-4627-98e7-546f6f5b2f74",
   "metadata": {},
   "outputs": [],
   "source": [
    "raw_data.head()"
   ]
  },
  {
   "cell_type": "code",
   "execution_count": null,
   "id": "660c85e6-002f-4227-ac80-62038f0baf45",
   "metadata": {},
   "outputs": [],
   "source": [
    "raw_data.info()"
   ]
  },
  {
   "cell_type": "code",
   "execution_count": null,
   "id": "af886437-7265-4671-a941-d820745fe678",
   "metadata": {},
   "outputs": [],
   "source": [
    "raw_data.describe()"
   ]
  },
  {
   "cell_type": "code",
   "execution_count": null,
   "id": "99f04261-3555-4266-a5fd-893d9d077240",
   "metadata": {},
   "outputs": [],
   "source": [
    "cols = raw_data.columns\n",
    "\n",
    "for col in cols:\n",
    "    print(col,\"unique values:\",raw_data[col].unique(),\"\\n\")"
   ]
  },
  {
   "cell_type": "markdown",
   "id": "23daeac6-b181-4878-bda5-d9e887891759",
   "metadata": {},
   "source": [
    "### Initial inspecion of the data looks good, there are no null values. 4 fixes will be done: \n",
    "1. Cleaning headers \n",
    "2. Drop unecessary columns \n",
    "3. The conversion of yes no columns to bool \n",
    "4. Furnished status changed to ordered category"
   ]
  },
  {
   "cell_type": "markdown",
   "id": "837b49e5-cce0-47cf-86ae-dd0f9ace769d",
   "metadata": {},
   "source": [
    "### Cleaning column headers to preferred convention"
   ]
  },
  {
   "cell_type": "code",
   "execution_count": null,
   "id": "3482f600-503c-44da-87c1-ff0897dbef18",
   "metadata": {},
   "outputs": [],
   "source": [
    "headers = ['price','area','no_bedrooms','no_bathrooms','no_stories','mainroad_connection','basement','guestroom','hot_water_heating','air_conditioning','no_parking_slots','prefarea','furnishing_status']\n",
    "raw_data.columns = headers\n",
    "raw_data"
   ]
  },
  {
   "cell_type": "markdown",
   "id": "8b111bde-67c2-4f85-addb-a90631b1c090",
   "metadata": {},
   "source": [
    "### Dropping unecessary columns"
   ]
  },
  {
   "cell_type": "markdown",
   "id": "ecd4e872-dd03-42da-bbb5-4e69b40ce66c",
   "metadata": {},
   "source": [
    "It is unclear what the prefarea is supposet to represent. Since we cannot determine whether its the buyers preferred area, seller preferred area, or general preferred area, it will be removed from the dataframe."
   ]
  },
  {
   "cell_type": "code",
   "execution_count": null,
   "id": "4a64384f-c52a-4f8c-bf15-a8deede36b11",
   "metadata": {},
   "outputs": [],
   "source": [
    "raw_data = raw_data.drop('prefarea',axis=1)\n",
    "raw_data"
   ]
  },
  {
   "cell_type": "markdown",
   "id": "5362b3fc-a1d9-47a4-9bec-219d850a439b",
   "metadata": {},
   "source": [
    "### Conversion of yes no to bool"
   ]
  },
  {
   "cell_type": "code",
   "execution_count": null,
   "id": "cc2b497b-623d-4b0a-af82-1f7c3bcf78e5",
   "metadata": {},
   "outputs": [],
   "source": [
    "yes_no_cols = ['mainroad_connection','basement','guestroom','hot_water_heating','air_conditioning']\n",
    "raw_data[yes_no_cols] = raw_data[yes_no_cols].replace({'yes': True, 'no': False}).astype(bool)"
   ]
  },
  {
   "cell_type": "markdown",
   "id": "95023fd2-d237-4abc-be54-97d4c81fc207",
   "metadata": {},
   "source": [
    "### Furnished status changed to ordered category"
   ]
  },
  {
   "cell_type": "code",
   "execution_count": null,
   "id": "67654540-d437-4fcf-9486-0e09f3a5b767",
   "metadata": {},
   "outputs": [],
   "source": [
    "raw_data['furnishing_status'] = pd.Categorical(raw_data['furnishing_status'], categories=['unfurnished', 'semi-furnished', 'furnished'], ordered=True)"
   ]
  },
  {
   "cell_type": "markdown",
   "id": "479613e7-ea66-40de-bfc4-f6343a7526d5",
   "metadata": {},
   "source": [
    "## Step 4: Understand the Data (Correlations, Heatmap)"
   ]
  },
  {
   "cell_type": "markdown",
   "id": "ab5342fa-44e6-4581-8e9a-01822678ba53",
   "metadata": {},
   "source": [
    "### Numerical Feature Correlation"
   ]
  },
  {
   "cell_type": "code",
   "execution_count": null,
   "id": "ca1171b1-1eec-49c8-9979-f9e648f3b286",
   "metadata": {},
   "outputs": [],
   "source": [
    "from scipy.stats import pearsonr\n",
    "\n",
    "numerical_columns = ['price', 'area', 'no_bedrooms', 'no_bathrooms', 'no_stories']\n",
    "\n",
    "results = []\n",
    "\n",
    "for feature in numerical_columns:\n",
    "    if feature != 'price':  \n",
    "        correlation, p_value = pearsonr(raw_data_encoded['price'], raw_data_encoded[feature])\n",
    "        results.append({'Feature': feature, 'Correlation': correlation, 'P-value': p_value})\n",
    "\n",
    "results_df = pd.DataFrame(results)\n",
    "\n",
    "results_df.sort_values(by=['Correlation','P-value'],ascending=False)"
   ]
  },
  {
   "cell_type": "markdown",
   "id": "aeac8526-018a-4d1a-88c0-b8db91e4e305",
   "metadata": {},
   "source": [
    "### Bool Feature Correlation"
   ]
  },
  {
   "cell_type": "code",
   "execution_count": null,
   "id": "c6e9b31d-0218-4c36-bbde-2b45f24e9d83",
   "metadata": {},
   "outputs": [],
   "source": [
    "from scipy.stats import pointbiserialr\n",
    "\n",
    "target = 'price'\n",
    "features = ['mainroad_connection','basement','guestroom','hot_water_heating','air_conditioning']\n",
    "\n",
    "results = []\n",
    "\n",
    "for feature in features:\n",
    "    correlation, p_value = pointbiserialr(raw_data[feature], raw_data[target])\n",
    "    results.append({'Feature': feature, 'Correlation': correlation, 'P-value': p_value})\n",
    "\n",
    "correlation_results = pd.DataFrame(results)\n",
    "correlation_results.sort_values(by=['Correlation', 'P-value'],ascending=False)"
   ]
  },
  {
   "cell_type": "markdown",
   "id": "73d4e0c9-7ef1-4747-ad97-dfecf6e44237",
   "metadata": {},
   "source": [
    "### Categorical Correlations"
   ]
  },
  {
   "cell_type": "code",
   "execution_count": null,
   "id": "c4386f61-0540-4f07-b2d8-501ced81bf94",
   "metadata": {},
   "outputs": [],
   "source": [
    "raw_data_encoded = pd.get_dummies(raw_data, columns=['furnishing_status'], drop_first=False)\n",
    "\n",
    "raw_data_encoded[['furnishing_status_semi-furnished', 'furnishing_status_furnished','furnishing_status_unfurnished', 'price']].corr().sort_values(by='price',ascending=False)"
   ]
  },
  {
   "cell_type": "markdown",
   "id": "9029173e-f37b-4e07-859a-920d1a39e544",
   "metadata": {},
   "source": [
    "### Feature Importance Heatmap"
   ]
  },
  {
   "cell_type": "code",
   "execution_count": null,
   "id": "bdecc184-67eb-49f7-9469-b9678083661e",
   "metadata": {},
   "outputs": [],
   "source": [
    "correlation_matrix = raw_data_encoded.corr()\n",
    "\n",
    "plt.figure(figsize=(10, 8)) \n",
    "\n",
    "sns.heatmap(correlation_matrix, annot=True, cmap='coolwarm', fmt='.2f')\n",
    "\n",
    "plt.title('Correlation Heatmap')\n",
    "plt.show()"
   ]
  },
  {
   "cell_type": "markdown",
   "id": "af4f72e6-7461-4927-b6ba-797bf372a4a4",
   "metadata": {},
   "source": [
    "## Correlation Analysis Conclusions:\n",
    "- Features: area, number of bathrooms, number of stories, air conditioning, and parking slots have the strongest positive correlation with price.\n",
    "- Features: unfurnished status is negatively correlated with price\n",
    "- Features: semi-firnished, firnished, hot water heating, guestroom, and basement have the least effect on price"
   ]
  },
  {
   "cell_type": "markdown",
   "id": "b705504c-4222-4c7e-8bb7-bf857279c8cf",
   "metadata": {},
   "source": [
    "## Step 5: Visualize Data\n"
   ]
  },
  {
   "cell_type": "code",
   "execution_count": null,
   "id": "a564ca7d-1766-4adc-91d7-cf12581d0159",
   "metadata": {},
   "outputs": [],
   "source": [
    "raw_data.head()\n",
    "raw_data.columns"
   ]
  },
  {
   "cell_type": "code",
   "execution_count": null,
   "id": "805ecd31-7f0f-42d8-9689-c0b37b3f92bc",
   "metadata": {},
   "outputs": [],
   "source": [
    "all_columns = ['price', 'area', 'no_bedrooms', 'no_bathrooms', 'no_stories',\n",
    "       'mainroad_connection', 'basement', 'guestroom', 'hot_water_heating',\n",
    "       'air_conditioning', 'no_parking_slots', 'furnishing_status']\n",
    "\n",
    "distribution_columns = ['price', 'area']\n",
    "\n",
    "count_columns = ['no_bedrooms', 'no_bathrooms', 'no_stories', 'no_parking_slots']\n",
    "\n",
    "categorical_columns = 'furnishing_status'\n",
    "\n",
    "bool_columns = ['mainroad_connection', 'basement', 'guestroom', 'hot_water_heating','air_conditioning']\n",
    "\n",
    "target='price'"
   ]
  },
  {
   "cell_type": "code",
   "execution_count": null,
   "id": "fb20a053-1056-4e7e-bbf6-60c2013fcd43",
   "metadata": {},
   "outputs": [],
   "source": [
    "def distribution_plot(df,column):\n",
    "    \n",
    "    plt.figure(figsize=(8, 6))\n",
    "    sns.histplot(df[column], bins=40, kde=True)\n",
    "\n",
    "    plt.title(f'Distribution of {column.title()}', fontsize=16)\n",
    "    plt.xlabel(column, fontsize=12)\n",
    "    plt.ylabel('Frequency', fontsize=12)\n",
    "\n",
    "    plt.show()\n",
    "\n",
    "def boxplot(df,column,target):\n",
    "    plt.figure(figsize=(8, 6))\n",
    "    sns.boxplot(x=column, y=target, data=df,palette='Set1')\n",
    "\n",
    "    plt.title(f'{column} Category Distribution', fontsize=16)\n",
    "    plt.xlabel(column+' Categories', fontsize=12)\n",
    "    plt.ylabel(target.title(), fontsize=12)\n",
    "    plt.show()\n",
    "\n",
    "def scatter_plot(df,xcol,ycol,hue=None):\n",
    "    plt.figure(figsize=(8, 6))\n",
    "    if hue == None:\n",
    "        sns.scatterplot(x=xcol, y=ycol, data=df)\n",
    "    else:\n",
    "        sns.scatterplot(x=xcol, y=ycol, data=df, hue=hue, palette='Set1')\n",
    "\n",
    "    plt.title(f'{xcol.title()} And {ycol.title()} Scatter Plot', fontsize=16)\n",
    "    plt.xlabel(xcol.title(), fontsize=12)\n",
    "    plt.ylabel(ycol.title(), fontsize=12)\n",
    "    plt.show()\n",
    "\n",
    "def pair_plot(df,columns):\n",
    "    sns.pairplot(df[columns])\n",
    "    plt.show()\n",
    "\n",
    "def bar_plot(df,xcol,ycol):\n",
    "    plt.figure(figsize=(8, 6))\n",
    "    \n",
    "    sns.barplot(x=xcol, y=ycol, data=df, palette='Set1')\n",
    "\n",
    "    plt.xlabel(xcol.title(), fontsize=12)\n",
    "    plt.ylabel(ycol.title(), fontsize=12)\n",
    "    plt.show()\n",
    "\n",
    "def count_plot(df,column):\n",
    "    plt.figure(figsize=(8, 6))\n",
    "    \n",
    "    sns.countplot(data=df,x=column, palette='Set1').set_title(f\"Count of {column.title()}\")\n",
    "\n",
    "    plt.xlabel(column.title(), fontsize=12)\n",
    "    plt.ylabel(\"Count\", fontsize=12)\n",
    "    plt.show()\n",
    "\n",
    "def violin_plot(df,xcol,ycol):\n",
    "    plt.figure(figsize=(8, 6))\n",
    "    \n",
    "    sns.violinplot(x=xcol, y=ycol, data=raw_data_encoded)\n",
    "\n",
    "    plt.xlabel(xcol.title(), fontsize=12)\n",
    "    plt.ylabel(ycol.title(), fontsize=12)\n",
    "    plt.show()   "
   ]
  },
  {
   "cell_type": "code",
   "execution_count": null,
   "id": "ea307b20-0f49-499b-b265-d7906f53f4bf",
   "metadata": {},
   "outputs": [],
   "source": [
    "for col in distribution_columns:\n",
    "    distribution_plot(raw_data,col)"
   ]
  },
  {
   "cell_type": "code",
   "execution_count": null,
   "id": "2c9bb271-cabd-4237-aa2c-5b7dc27b7ec7",
   "metadata": {},
   "outputs": [],
   "source": [
    "boxplot(raw_data,categorical_columns,target)"
   ]
  },
  {
   "cell_type": "markdown",
   "id": "210b0fc3-28c7-4f94-9275-2020bd1def3f",
   "metadata": {},
   "source": [
    "### Evidence of some outliers shown here"
   ]
  },
  {
   "cell_type": "code",
   "execution_count": null,
   "id": "cf7da1d6-e957-4e94-88b3-eb144f2b688c",
   "metadata": {},
   "outputs": [],
   "source": [
    "scatter_plot(raw_data, 'area','price')"
   ]
  },
  {
   "cell_type": "code",
   "execution_count": null,
   "id": "e5907dc9-77f2-4ccd-acea-3d5f61aace59",
   "metadata": {},
   "outputs": [],
   "source": [
    "pair_plot(raw_data,['price', 'area', 'no_bedrooms', 'no_bathrooms'])"
   ]
  },
  {
   "cell_type": "code",
   "execution_count": null,
   "id": "856d8006-df0e-4175-8e53-96383cff19b7",
   "metadata": {},
   "outputs": [],
   "source": [
    "for cols in count_columns:\n",
    "    count_plot(raw_data,cols)"
   ]
  },
  {
   "cell_type": "markdown",
   "id": "081eba34-1210-43e5-99c1-4023e9ddf5f2",
   "metadata": {},
   "source": [
    "### Uneven distribution shown here between feature frequencies"
   ]
  },
  {
   "cell_type": "code",
   "execution_count": null,
   "id": "9d3f3ccc-1446-4370-84ae-76671da0f1aa",
   "metadata": {},
   "outputs": [],
   "source": [
    "sns.regplot(x='area',y='price', data=raw_data,scatter_kws={'color': 'blue'},line_kws={'color': 'red'}).set_title(\"Area Price Distribution\")\n",
    "plt.show()"
   ]
  },
  {
   "cell_type": "code",
   "execution_count": null,
   "id": "c4f4b2c1-6529-49c2-ad91-61eefdcd52f6",
   "metadata": {},
   "outputs": [],
   "source": [
    "sns.regplot(x='no_bedrooms',y='area', data=raw_data,scatter_kws={'color': 'blue'},line_kws={'color': 'red'}).set_title(\"Area Bedroom Distribution\")\n",
    "plt.show()"
   ]
  },
  {
   "cell_type": "markdown",
   "id": "d42d9226-cdc8-4c54-b9d2-69ea8ef70cd2",
   "metadata": {},
   "source": [
    "## Step 6: Model Creation"
   ]
  },
  {
   "cell_type": "markdown",
   "id": "329d978d-6578-4957-99eb-d1dcc412d08e",
   "metadata": {},
   "source": [
    "### Initial Model will be standard multiple linear regression"
   ]
  },
  {
   "cell_type": "code",
   "execution_count": null,
   "id": "8beaa8c1-b46b-4866-9287-d43c92bb6c27",
   "metadata": {},
   "outputs": [],
   "source": [
    "x_data = raw_data_encoded.drop('price', axis=1)\n",
    "y_data = raw_data_encoded['price']\n",
    "\n",
    "x_train, x_test, y_train, y_test = train_test_split(x_data, y_data, test_size = 0.4, random_state=1)\n",
    "\n",
    "print(\"number of test samples :\", x_test.shape[0])\n",
    "print(\"number of training samples:\",x_train.shape[0])"
   ]
  },
  {
   "cell_type": "code",
   "execution_count": null,
   "id": "ee0eba76-b149-4575-b467-d36b683f1ae5",
   "metadata": {},
   "outputs": [],
   "source": [
    "lm = LinearRegression()\n",
    "lm.fit(x_train,y_train)\n",
    "y_hat = lm.predict(x_test)"
   ]
  },
  {
   "cell_type": "code",
   "execution_count": null,
   "id": "cb776cc4-0068-44aa-8606-36074d749878",
   "metadata": {},
   "outputs": [],
   "source": [
    "print(r2_score(y_test,y_hat))"
   ]
  },
  {
   "cell_type": "code",
   "execution_count": null,
   "id": "b0601dfa-13d0-409e-9709-37c687077498",
   "metadata": {},
   "outputs": [],
   "source": [
    "plt.figure(figsize=(10, 6))\n",
    "ax1 = sns.distplot(raw_data_encoded['price'], hist=False, color=\"r\", label=\"Actual Value\")\n",
    "sns.distplot(y_hat, hist=False, color=\"b\", label=\"Fitted Values\" , ax=ax1)\n",
    "\n",
    "plt.title('Actual vs Fitted Values for Yield')\n",
    "plt.xlabel('House Price')\n",
    "plt.ylabel('Density')\n",
    "plt.legend()\n",
    "plt.show()"
   ]
  },
  {
   "cell_type": "markdown",
   "id": "528da008-e299-4152-bf8c-6acf814b7842",
   "metadata": {},
   "source": [
    "### Initial model performs well but is not able to fully grasp the trend. The model is showing some signs of over fitting."
   ]
  },
  {
   "cell_type": "markdown",
   "id": "19f65969-14a5-40e6-9aa5-f4efa25cf4ff",
   "metadata": {},
   "source": [
    "## Step 7: Model Evaluation and Refinement:"
   ]
  },
  {
   "cell_type": "markdown",
   "id": "179da861-1175-4d5a-8e05-51b5df6f90af",
   "metadata": {},
   "source": [
    "### Polynomial Feature Degree test:"
   ]
  },
  {
   "cell_type": "code",
   "execution_count": null,
   "id": "528957fa-c82b-4d03-91dc-6caf508625e2",
   "metadata": {},
   "outputs": [],
   "source": [
    "lr_test = LinearRegression()\n",
    "R2_test = []\n",
    "order = [1, 2, 3, 4, 5]\n",
    "for n in order:\n",
    "    pr = PolynomialFeatures(degree=n)\n",
    "    x_train_pr = pr.fit_transform(x_train)\n",
    "    x_test_pr = pr.fit_transform(x_test)    \n",
    "    lr_test.fit(x_train_pr, y_train)\n",
    "    R2_test.append(lr_test.score(x_test_pr, y_test))"
   ]
  },
  {
   "cell_type": "code",
   "execution_count": null,
   "id": "10b79380-11f8-4f45-a842-acc2c0e91654",
   "metadata": {},
   "outputs": [],
   "source": [
    "plt.plot(order, R2_test)\n",
    "plt.xlabel('order')\n",
    "plt.ylabel('R^2')\n",
    "plt.title('R^2 Using Test Data') \n",
    "plt.show()"
   ]
  },
  {
   "cell_type": "markdown",
   "id": "2d71e25d-2c9e-47ad-9b93-b4e77f5157e7",
   "metadata": {},
   "source": [
    "### Alpha value test:"
   ]
  },
  {
   "cell_type": "code",
   "execution_count": null,
   "id": "0a866fe2-8912-408f-a545-11ceda567228",
   "metadata": {},
   "outputs": [],
   "source": [
    "pr_test=PolynomialFeatures(degree=2)\n",
    "x_train_pr=pr_test.fit_transform(x_train)\n",
    "x_test_pr=pr_test.fit_transform(x_test)"
   ]
  },
  {
   "cell_type": "code",
   "execution_count": null,
   "id": "0adf0c50-f9a1-47dd-87dc-de93a3b792de",
   "metadata": {},
   "outputs": [],
   "source": [
    "R2_test = []\n",
    "R2_train = []\n",
    "Alpha = np.arange(0.001,1,0.001)\n",
    "pbar = tqdm(Alpha)\n",
    "\n",
    "for alpha in pbar:\n",
    "    RigeModel = Ridge(alpha=alpha) \n",
    "    RigeModel.fit(x_train_pr, y_train)\n",
    "    test_score, train_score = RigeModel.score(x_test_pr, y_test), RigeModel.score(x_train_pr, y_train)\n",
    "    pbar.set_postfix({\"Test Score\": test_score, \"Train Score\": train_score})\n",
    "    R2_test.append(test_score)\n",
    "    R2_train.append(train_score)"
   ]
  },
  {
   "cell_type": "code",
   "execution_count": null,
   "id": "dde4839b-9272-4c6f-92cc-4c8bdcee7057",
   "metadata": {},
   "outputs": [],
   "source": [
    "plt.figure(figsize=(10, 6))  \n",
    "plt.plot(Alpha, R2_test, label='validation data')\n",
    "plt.plot(Alpha, R2_train, 'r', label='training Data')\n",
    "plt.xlabel('alpha')\n",
    "plt.ylabel('R^2')\n",
    "plt.ylim(0, 1)\n",
    "plt.legend()\n",
    "plt.show()"
   ]
  },
  {
   "cell_type": "markdown",
   "id": "7f891b12-dcab-43b2-8e9b-b3892dd8a925",
   "metadata": {},
   "source": [
    "### Grid Search Test:"
   ]
  },
  {
   "cell_type": "code",
   "execution_count": null,
   "id": "8edeb752-2669-4db0-98b2-d584e7f0f44b",
   "metadata": {},
   "outputs": [],
   "source": [
    "alpha_params = [{'alpha': [0.0001,0.001,0.01, 0.1, 1, 10]}]"
   ]
  },
  {
   "cell_type": "code",
   "execution_count": null,
   "id": "96a93df1-bad1-42d0-a890-aab55c296cc8",
   "metadata": {},
   "outputs": [],
   "source": [
    "ridge_test=Ridge()\n",
    "grid_test = GridSearchCV(ridge_test, alpha_params,cv=4)"
   ]
  },
  {
   "cell_type": "code",
   "execution_count": null,
   "id": "0d889a8e-017f-498a-b4fc-4c989e984993",
   "metadata": {},
   "outputs": [],
   "source": [
    "grid_test.fit(x_train, y_train)"
   ]
  },
  {
   "cell_type": "code",
   "execution_count": null,
   "id": "285f46d3-b7e3-494b-8809-764becd2652b",
   "metadata": {},
   "outputs": [],
   "source": [
    "BestRR=grid_test.best_estimator_\n",
    "print(BestRR)\n",
    "print(BestRR.score(x_test, y_test))"
   ]
  },
  {
   "cell_type": "markdown",
   "id": "86691905-ff63-46aa-8d25-f078aff58153",
   "metadata": {},
   "source": [
    "### Model Creation With Optimal Parameters"
   ]
  },
  {
   "cell_type": "code",
   "execution_count": null,
   "id": "563aef77-bd86-4efe-ba50-96d3bb323148",
   "metadata": {},
   "outputs": [],
   "source": [
    "pr_opt = PolynomialFeatures(degree=2)\n",
    "RidgeModelOPT = Ridge(alpha=1)\n",
    "\n",
    "x_train_pr_opt = pr_opt.fit_transform(x_train)\n",
    "x_test_pr_opt = pr_opt.fit_transform(x_test)\n",
    "\n",
    "RidgeModelOPT.fit(x_train_pr_opt, y_train)\n",
    "y_hat_opt = RidgeModelOPT.predict(x_test_pr_opt)\n"
   ]
  },
  {
   "cell_type": "code",
   "execution_count": null,
   "id": "28c1a2b9-44a0-44b5-b4f6-fd5f8ed5c17d",
   "metadata": {},
   "outputs": [],
   "source": [
    "print(r2_score(y_test,y_hat_opt))"
   ]
  },
  {
   "cell_type": "code",
   "execution_count": null,
   "id": "42f7d2f9-1046-40ab-a945-3a7d51901976",
   "metadata": {},
   "outputs": [],
   "source": [
    "plt.figure(figsize=(8, 6))\n",
    "sns.scatterplot(x=y_test, y=y_hat_opt, color='blue', label=\"Predicted vs Actual\")\n",
    "\n",
    "plt.plot([y_test.min(), y_test.max()], [y_test.min(), y_test.max()], color='red', lw=2, label=\"Ideal fit\")\n",
    "\n",
    "plt.title(f\"Ridge Regression Predictions (R2 = {r2_score(y_test, y_hat_opt):.2f})\", fontsize=16)\n",
    "plt.xlabel(\"Actual Values\", fontsize=12)\n",
    "plt.ylabel(\"Predicted Values\", fontsize=12)\n",
    "plt.legend()\n",
    "\n",
    "plt.show()"
   ]
  },
  {
   "cell_type": "code",
   "execution_count": null,
   "id": "ca76df81-3109-4e2c-8c83-d15c03426bba",
   "metadata": {},
   "outputs": [],
   "source": [
    "plt.figure(figsize=(10, 6))\n",
    "\n",
    "ax1 = sns.kdeplot(y_test, color=\"r\", label=\"Actual Values\", lw=2)\n",
    "\n",
    "sns.kdeplot(y_hat_opt, color=\"b\", label=\"Fitted Values\", lw=2, ax=ax1)\n",
    "\n",
    "plt.title('Actual vs Fitted Values for House Price', fontsize=16)\n",
    "plt.xlabel('House Price', fontsize=12)\n",
    "plt.ylabel('Density', fontsize=12)\n",
    "\n",
    "plt.legend()\n",
    "plt.show()"
   ]
  },
  {
   "cell_type": "markdown",
   "id": "e8a9553d-c668-4d39-a69d-41823cfe146c",
   "metadata": {},
   "source": [
    "## Conclusions:\n",
    "- Model shows less overfitting but still not grasping the trend\n",
    "- r2 score remained around the same"
   ]
  },
  {
   "cell_type": "markdown",
   "id": "318f6285-33ae-4f27-bfd2-03535fc0d17d",
   "metadata": {},
   "source": [
    "## Next Steps:\n",
    "- remove outliers\n",
    "- scale down large numbers\n",
    "- cross validation\n",
    "- pipeline"
   ]
  },
  {
   "cell_type": "markdown",
   "id": "dd6c64b4-86be-4876-aad0-fdd0e6684425",
   "metadata": {},
   "source": [
    "### Filtering Outliers"
   ]
  },
  {
   "cell_type": "code",
   "execution_count": null,
   "id": "e9fb2e94-0838-4d7c-9c57-d40c9f3154cf",
   "metadata": {},
   "outputs": [],
   "source": [
    "numeric_data = raw_data_encoded.select_dtypes(include=[np.number])\n",
    "\n",
    "Q1 = numeric_data.quantile(0.25)\n",
    "Q3 = numeric_data.quantile(0.75)\n",
    "\n",
    "IQR = Q3 - Q1\n",
    "\n",
    "filter = (numeric_data >= (Q1 - 1.5 * IQR)) & (numeric_data <= (Q3 + 1.5 * IQR))\n",
    "\n",
    "filtered_data = raw_data_encoded[filter.all(axis=1)]\n",
    "\n",
    "print(f\"Original Data Shape: {raw_data_encoded.shape}\")\n",
    "print(f\"Filtered Data Shape: {filtered_data.shape}\")"
   ]
  },
  {
   "cell_type": "markdown",
   "id": "0cc3140f-a2ce-4ede-a90e-4b5847c7b170",
   "metadata": {},
   "source": [
    "### Pipeline Creation to Implement Scale and Streamline Process"
   ]
  },
  {
   "cell_type": "code",
   "execution_count": null,
   "id": "2e3551ea-6bd5-47ac-a4bd-86498b2cbb96",
   "metadata": {},
   "outputs": [],
   "source": [
    "Input=[('scale',StandardScaler()), ('polynomial', PolynomialFeatures(degree=2,include_bias=False)), ('model',Ridge(alpha=10))]\n",
    "pipe=Pipeline(Input)\n",
    "z=filtered_data.drop('price',axis=1)\n",
    "y = filtered_data['price']\n",
    "pipe.fit(z,y)\n",
    "ypipe=pipe.predict(z)\n",
    "\n",
    "print('pipeline R2: ', r2_score(y, ypipe))"
   ]
  },
  {
   "cell_type": "code",
   "execution_count": null,
   "id": "b0bc30f7-ffdf-4a4b-a244-9dd636061db6",
   "metadata": {},
   "outputs": [],
   "source": [
    "cv_scores = cross_val_score(pipe, z, y, cv=5) \n",
    "\n",
    "print(\"Cross-Validation Scores:\", cv_scores)\n",
    "print(\"Average Cross-Validation Score:\", cv_scores.mean())"
   ]
  },
  {
   "cell_type": "code",
   "execution_count": null,
   "id": "d4ded9e8-567d-42d9-9889-cb9eb3d5b592",
   "metadata": {},
   "outputs": [],
   "source": [
    "plt.figure(figsize=(8, 6))\n",
    "plt.scatter(y, ypipe, color='blue', label='Predicted vs Actual')\n",
    "plt.plot([y.min(), y.max()], [y.min(), y.max()], color='red', linewidth=2, label='Ideal fit') \n",
    "plt.title('Actual vs Predicted Values')\n",
    "plt.xlabel('Actual Values (Price)')\n",
    "plt.ylabel('Predicted Values (Price)')\n",
    "plt.legend()\n",
    "plt.show()"
   ]
  },
  {
   "cell_type": "code",
   "execution_count": null,
   "id": "f1c14c00-cfce-4479-8c88-442a491cd9ab",
   "metadata": {},
   "outputs": [],
   "source": [
    "plt.figure(figsize=(8, 6))\n",
    "sns.kdeplot(y, color='r', label='Actual Values', lw=2)\n",
    "sns.kdeplot(ypipe, color='b', label='Predicted Values', lw=2)\n",
    "plt.title('KDE Plot of Actual vs Predicted Values')\n",
    "plt.xlabel('House Price')\n",
    "plt.ylabel('Density')\n",
    "plt.legend()\n",
    "plt.show()"
   ]
  },
  {
   "cell_type": "markdown",
   "id": "c49da876-783b-405f-a71f-0b91d676a77c",
   "metadata": {},
   "source": [
    "### Hyperparameter Tuning:"
   ]
  },
  {
   "cell_type": "code",
   "execution_count": null,
   "id": "1f02b3d3-5a4b-4d49-815f-4ca2c14d9e65",
   "metadata": {},
   "outputs": [],
   "source": [
    "param_grid = {\n",
    "    'polynomial__degree': [1, 2, 3, 4],  \n",
    "    'model__alpha': [0.001, 0.1, 1, 10]      \n",
    "}\n",
    "\n",
    "grid_search = GridSearchCV(pipe, param_grid, cv=5, scoring='r2')\n",
    "grid_search.fit(z, y)\n",
    "\n",
    "print(\"Best parameters found:\", grid_search.best_params_)\n",
    "print(\"Best cross-validation R2 score:\", grid_search.best_score_)"
   ]
  },
  {
   "cell_type": "markdown",
   "id": "1888d981-e47f-480b-b23a-afc9483aecd3",
   "metadata": {},
   "source": [
    "## Conclusions:\n",
    "- The initial pipeline performed well reaching a R2 of 0.716\n",
    "- upon inspecion of cross validation scores it performed extremly poor, showing that it performs worse than a model which just guesses the mean"
   ]
  },
  {
   "cell_type": "markdown",
   "id": "10adf302-e8c6-41fe-89f4-476c2f540736",
   "metadata": {},
   "source": [
    "## Nexts Steps:\n",
    "- Feature engineering\n",
    "- Adjusting for multicollinearity between features\n",
    "- Dropping unecessary features"
   ]
  },
  {
   "cell_type": "code",
   "execution_count": null,
   "id": "9836cc8e-a46c-46dc-8afb-958545685060",
   "metadata": {},
   "outputs": [],
   "source": []
  },
  {
   "cell_type": "code",
   "execution_count": null,
   "id": "212aa684-6f04-4bc9-a7f2-9491f6a916aa",
   "metadata": {},
   "outputs": [],
   "source": []
  }
 ],
 "metadata": {
  "kernelspec": {
   "display_name": "Python 3 (ipykernel)",
   "language": "python",
   "name": "python3"
  },
  "language_info": {
   "codemirror_mode": {
    "name": "ipython",
    "version": 3
   },
   "file_extension": ".py",
   "mimetype": "text/x-python",
   "name": "python",
   "nbconvert_exporter": "python",
   "pygments_lexer": "ipython3",
   "version": "3.11.9"
  }
 },
 "nbformat": 4,
 "nbformat_minor": 5
}
